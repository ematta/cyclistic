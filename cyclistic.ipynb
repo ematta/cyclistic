{
  "cells": [
    {
      "cell_type": "markdown",
      "metadata": {
        "id": "Cn0E-mzQqyIr"
      },
      "source": [
        "This is a story of a cycling company, it's needs, and how to get there.\n",
        "\n",
        "## Library Installed\n",
        "- pandas\n",
        "- numpy\n",
        "- seaborn\n",
        "- matplotlib\n",
        "- geopandas\n",
        "- shapely"
      ]
    },
    {
      "cell_type": "code",
      "execution_count": null,
      "metadata": {
        "colab": {
          "base_uri": "https://localhost:8080/"
        },
        "id": "rXb-bwRvn8wB",
        "outputId": "ddec3bca-ad77-439f-b8a5-d23e6aa23bb2"
      },
      "outputs": [],
      "source": [
        "!pip install pandas numpy seaborn matplotlib geopandas shapely"
      ]
    },
    {
      "cell_type": "markdown",
      "metadata": {
        "id": "ogC0yUOwrFkb"
      },
      "source": [
        "### Downloading data"
      ]
    },
    {
      "cell_type": "code",
      "execution_count": null,
      "metadata": {
        "colab": {
          "base_uri": "https://localhost:8080/"
        },
        "id": "58zytnT0oS9j",
        "outputId": "ce450c39-f218-4cf2-87cd-84fbf456edc0"
      },
      "outputs": [],
      "source": [
        "!wget https://divvy-tripdata.s3.amazonaws.com/202307-divvy-tripdata.zip\n",
        "!wget https://divvy-tripdata.s3.amazonaws.com/202308-divvy-tripdata.zip\n",
        "!wget https://divvy-tripdata.s3.amazonaws.com/202309-divvy-tripdata.zip\n",
        "!wget https://divvy-tripdata.s3.amazonaws.com/202310-divvy-tripdata.zip\n",
        "!wget https://divvy-tripdata.s3.amazonaws.com/202311-divvy-tripdata.zip\n",
        "!wget https://divvy-tripdata.s3.amazonaws.com/202312-divvy-tripdata.zip\n",
        "!wget https://divvy-tripdata.s3.amazonaws.com/202401-divvy-tripdata.zip\n",
        "!wget https://divvy-tripdata.s3.amazonaws.com/202402-divvy-tripdata.zip\n",
        "!wget https://divvy-tripdata.s3.amazonaws.com/202403-divvy-tripdata.zip\n",
        "!wget https://divvy-tripdata.s3.amazonaws.com/202404-divvy-tripdata.zip\n",
        "!wget https://divvy-tripdata.s3.amazonaws.com/202405-divvy-tripdata.zip\n",
        "!wget https://divvy-tripdata.s3.amazonaws.com/202406-divvy-tripdata.zip"
      ]
    },
    {
      "cell_type": "code",
      "execution_count": null,
      "metadata": {
        "colab": {
          "base_uri": "https://localhost:8080/"
        },
        "id": "02zYOM-7oZt6",
        "outputId": "94f2ce7b-0954-498e-a644-51af3604672e"
      },
      "outputs": [],
      "source": [
        "!unzip 202307-divvy-tripdata.zip\n",
        "!unzip 202308-divvy-tripdata.zip\n",
        "!unzip 202309-divvy-tripdata.zip\n",
        "!unzip 202310-divvy-tripdata.zip\n",
        "!unzip 202311-divvy-tripdata.zip\n",
        "!unzip 202312-divvy-tripdata.zip\n",
        "!unzip 202401-divvy-tripdata.zip\n",
        "!unzip 202402-divvy-tripdata.zip\n",
        "!unzip 202403-divvy-tripdata.zip\n",
        "!unzip 202404-divvy-tripdata.zip\n",
        "!unzip 202405-divvy-tripdata.zip\n",
        "!unzip 202406-divvy-tripdata.zip"
      ]
    },
    {
      "cell_type": "markdown",
      "metadata": {
        "id": "7X4ICRPSrPkz"
      },
      "source": [
        "Now we start really analyzing\n",
        "\n",
        "## Data Loading and Cleanup"
      ]
    },
    {
      "cell_type": "code",
      "execution_count": null,
      "metadata": {
        "id": "16AxnYHfolPH"
      },
      "outputs": [],
      "source": [
        "import pandas as pd\n",
        "import numpy as np"
      ]
    },
    {
      "cell_type": "code",
      "execution_count": null,
      "metadata": {
        "id": "_ZBVBJbvomuY"
      },
      "outputs": [],
      "source": [
        "trip_data_202307 = pd.read_csv('202307-divvy-tripdata.csv')\n",
        "trip_data_202308 = pd.read_csv('202308-divvy-tripdata.csv')\n",
        "trip_data_202309 = pd.read_csv('202309-divvy-tripdata.csv')\n",
        "trip_data_202310 = pd.read_csv('202310-divvy-tripdata.csv')\n",
        "trip_data_202311 = pd.read_csv('202311-divvy-tripdata.csv')\n",
        "trip_data_202312 = pd.read_csv('202312-divvy-tripdata.csv')\n",
        "trip_data_202401 = pd.read_csv('202401-divvy-tripdata.csv')\n",
        "trip_data_202402 = pd.read_csv('202402-divvy-tripdata.csv')\n",
        "trip_data_202403 = pd.read_csv('202403-divvy-tripdata.csv')\n",
        "trip_data_202404 = pd.read_csv('202404-divvy-tripdata.csv')\n",
        "trip_data_202405 = pd.read_csv('202405-divvy-tripdata.csv')\n",
        "trip_data_202406 = pd.read_csv('202406-divvy-tripdata.csv')"
      ]
    },
    {
      "cell_type": "code",
      "execution_count": null,
      "metadata": {
        "colab": {
          "base_uri": "https://localhost:8080/",
          "height": 1000
        },
        "id": "paDKnxZMorYS",
        "outputId": "75bbb79c-a48b-4072-cd86-edea15fedb8e"
      },
      "outputs": [],
      "source": [
        "import geopandas as gpd\n",
        "from shapely.geometry import Point\n",
        "import pandas as pd\n",
        "\n",
        "\n",
        "def calculate_distances_geopandas(start_lat, start_long, end_lat, end_long):\n",
        "    \"\"\"\n",
        "    Calculates the distances between pairs of start and end coordinates using GeoPandas.\n",
        "\n",
        "    Args:\n",
        "        start_lat (pd.Series): A Series containing start latitudes.\n",
        "        start_long (pd.Series): A Series containing start longitudes.\n",
        "        end_lat (pd.Series): A Series containing end latitudes.\n",
        "        end_long (pd.Series): A Series containing end longitudes.\n",
        "\n",
        "    Returns:\n",
        "        pd.Series: A Series containing the distances between corresponding start-end coordinate pairs in kilometers.\n",
        "    \"\"\"\n",
        "\n",
        "    # Input validation (same length for all series)\n",
        "    if not len({len(start_lat), len(start_long), len(end_lat), len(end_long)}) == 1:\n",
        "        raise ValueError(\"All input Series must have the same length.\")\n",
        "\n",
        "    # Create Point geometries from start and end coordinates\n",
        "    start_points = gpd.GeoSeries(\n",
        "        [Point(lon, lat) for lat, lon in zip(start_lat, start_long)], crs=\"EPSG:4326\")\n",
        "    end_points = gpd.GeoSeries(\n",
        "        [Point(lon, lat) for lat, lon in zip(end_lat, end_long)], crs=\"EPSG:4326\")\n",
        "\n",
        "    # Calculate distances (in meters) and convert to kilometers\n",
        "    distance = start_points.distance(end_points, align=True)\n",
        "\n",
        "    return distance\n",
        "\n",
        "df = pd.concat(\n",
        "    [trip_data_202307, trip_data_202308, trip_data_202309, trip_data_202310, trip_data_202311, trip_data_202312,\n",
        "     trip_data_202401, trip_data_202402, trip_data_202403, trip_data_202404, trip_data_202405, trip_data_202406])\n",
        "\n",
        "df.reset_index(inplace=True)\n",
        "\n",
        "df.dropna()\n",
        "df['started_at'] = pd.to_datetime(df['started_at'], errors='coerce')\n",
        "df['ended_at'] = pd.to_datetime(df['ended_at'], errors='coerce')\n",
        "df['member_casual'] = df['member_casual'].astype('category')\n",
        "df['ride_id'] = df['ride_id'].astype('string')\n",
        "df['rideable_type'] = df['rideable_type'].astype('string')\n",
        "df['start_station_name'] = df['start_station_name'].astype('string')\n",
        "df['start_station_id'] = df['start_station_id'].astype('string')\n",
        "df['end_station_name'] = df['end_station_name'].astype('string')\n",
        "df['end_station_id'] = df['end_station_id'].astype('string')\n",
        "\n",
        "df['ride_length'] = df['ended_at'] - df['started_at']\n",
        "\n",
        "df['distance'] = calculate_distances_geopandas(\n",
        "    df['start_lat'],\n",
        "    df['start_lng'],\n",
        "    df['end_lat'],\n",
        "    df['end_lng']\n",
        ")\n",
        "\n",
        "print(df.info())\n",
        "print(df.describe())\n",
        "df.head()"
      ]
    },
    {
      "cell_type": "code",
      "execution_count": null,
      "metadata": {
        "id": "bc59Vvzaptzj"
      },
      "outputs": [],
      "source": [
        "del trip_data_202307\n",
        "del trip_data_202308\n",
        "del trip_data_202309\n",
        "del trip_data_202310\n",
        "del trip_data_202311\n",
        "del trip_data_202312\n",
        "del trip_data_202401\n",
        "del trip_data_202402\n",
        "del trip_data_202403\n",
        "del trip_data_202404\n",
        "del trip_data_202405\n",
        "del trip_data_202406"
      ]
    },
    {
      "cell_type": "code",
      "execution_count": null,
      "metadata": {
        "colab": {
          "base_uri": "https://localhost:8080/"
        },
        "id": "Goj7_opFpy5D",
        "outputId": "0f54439a-ce7f-457d-b53e-e178fc782550"
      },
      "outputs": [],
      "source": [
        "import seaborn as sns\n",
        "import matplotlib.pyplot as plt\n",
        "\n",
        "df.count()"
      ]
    },
    {
      "cell_type": "markdown",
      "metadata": {
        "id": "wVHCcSFir_70"
      },
      "source": [
        "As we can see, there is an anomalous set of data that throws our scatterplot to dissarray. Now, let's find it, and clean it up. First we have to check if these distances are for rides that have no end (or end is null)\n",
        "\n",
        "After we do that, we will conclude with filtering out some outliers from our code using Interquartile Range."
      ]
    },
    {
      "cell_type": "code",
      "execution_count": null,
      "metadata": {
        "colab": {
          "base_uri": "https://localhost:8080/"
        },
        "id": "E9nRQUlGsSsU",
        "outputId": "d7360860-1565-4b5d-a754-510827df6780"
      },
      "outputs": [],
      "source": [
        "df_filtered = df[df['ended_at'].notnull()]\n",
        "df_filtered = df_filtered[df_filtered['distance'] != 0]\n",
        "df_filtered = df[df['start_station_name'].notnull()]\n",
        "df_filtered = df[df['start_station_id'].notnull()]\n",
        "df_filtered = df[df['end_station_name'].notnull()]\n",
        "df_filtered = df[df['end_station_id'].notnull()]\n",
        "\n",
        "df_filtered = df_filtered[df_filtered['ride_length'] != 0]\n",
        "df_filtered = df_filtered[df_filtered['ride_length'] != '00:00:00']\n",
        "df_filtered = df_filtered[df_filtered['ride_length'].notnull()]\n",
        "\n",
        "df_filtered.drop_duplicates(inplace=True)\n",
        "\n",
        "df_filtered.count()\n",
        "\n",
        "# Calculate the IQR\n",
        "Q1 = df_filtered['distance'].quantile(0.25)\n",
        "Q3 = df_filtered['distance'].quantile(0.75)\n",
        "IQR = Q3 - Q1\n",
        "\n",
        "# Define the lower and upper bounds for outliers\n",
        "lower_bound = Q1 - 1.5 * IQR\n",
        "upper_bound = Q3 + 1.5 * IQR\n",
        "\n",
        "# Filter out outliers\n",
        "df_filtered = df_filtered[(df_filtered['distance'] >= lower_bound) & (df_filtered['distance'] <= upper_bound)]\n",
        "\n",
        "df_filtered.count()"
      ]
    },
    {
      "cell_type": "markdown",
      "metadata": {
        "id": "UpUWEkIbtExA"
      },
      "source": [
        "Now let's see how our plot looks like again."
      ]
    },
    {
      "cell_type": "code",
      "execution_count": null,
      "metadata": {
        "colab": {
          "base_uri": "https://localhost:8080/",
          "height": 412
        },
        "id": "buU50pc1uPHe",
        "outputId": "6700c778-c9e2-4e1c-80e4-90f0776b93af"
      },
      "outputs": [],
      "source": []
    },
    {
      "cell_type": "code",
      "execution_count": null,
      "metadata": {
        "id": "MvdysCoutKKx"
      },
      "outputs": [],
      "source": []
    }
  ],
  "metadata": {
    "colab": {
      "provenance": []
    },
    "kernelspec": {
      "display_name": "Python 3",
      "name": "python3"
    },
    "language_info": {
      "codemirror_mode": {
        "name": "ipython",
        "version": 3
      },
      "file_extension": ".py",
      "mimetype": "text/x-python",
      "name": "python",
      "nbconvert_exporter": "python",
      "pygments_lexer": "ipython3",
      "version": "3.12.4"
    }
  },
  "nbformat": 4,
  "nbformat_minor": 0
}
