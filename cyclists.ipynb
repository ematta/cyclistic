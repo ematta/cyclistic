{
 "cells": [
  {
   "cell_type": "markdown",
   "metadata": {},
   "source": [
    "\n",
    "\n",
    "## Retrieve data\n",
    "\n",
    "First, let's get our info"
   ]
  },
  {
   "cell_type": "code",
   "execution_count": null,
   "metadata": {
    "vscode": {
     "languageId": "shellscript"
    }
   },
   "outputs": [],
   "source": [
    "!pip install pandas numpy seaborn matplotlib geopandas shapely"
   ]
  },
  {
   "cell_type": "code",
   "execution_count": null,
   "metadata": {
    "vscode": {
     "languageId": "shellscript"
    }
   },
   "outputs": [],
   "source": [
    "!wget https://divvy-tripdata.s3.amazonaws.com/202307-divvy-tripdata.zip\n",
    "!wget https://divvy-tripdata.s3.amazonaws.com/202308-divvy-tripdata.zip\n",
    "!wget https://divvy-tripdata.s3.amazonaws.com/202309-divvy-tripdata.zip\n",
    "!wget https://divvy-tripdata.s3.amazonaws.com/202310-divvy-tripdata.zip\n",
    "!wget https://divvy-tripdata.s3.amazonaws.com/202311-divvy-tripdata.zip\n",
    "!wget https://divvy-tripdata.s3.amazonaws.com/202312-divvy-tripdata.zip\n",
    "!wget https://divvy-tripdata.s3.amazonaws.com/202401-divvy-tripdata.zip\n",
    "!wget https://divvy-tripdata.s3.amazonaws.com/202402-divvy-tripdata.zip\n",
    "!wget https://divvy-tripdata.s3.amazonaws.com/202403-divvy-tripdata.zip\n",
    "!wget https://divvy-tripdata.s3.amazonaws.com/202404-divvy-tripdata.zip\n",
    "!wget https://divvy-tripdata.s3.amazonaws.com/202405-divvy-tripdata.zip\n",
    "!wget https://divvy-tripdata.s3.amazonaws.com/202406-divvy-tripdata.zip"
   ]
  },
  {
   "cell_type": "code",
   "execution_count": null,
   "metadata": {
    "vscode": {
     "languageId": "shellscript"
    }
   },
   "outputs": [],
   "source": [
    "!unzip 202307-divvy-tripdata.zip\n",
    "!unzip 202308-divvy-tripdata.zip\n",
    "!unzip 202309-divvy-tripdata.zip\n",
    "!unzip 202310-divvy-tripdata.zip\n",
    "!unzip 202311-divvy-tripdata.zip\n",
    "!unzip 202312-divvy-tripdata.zip\n",
    "!unzip 202401-divvy-tripdata.zip\n",
    "!unzip 202402-divvy-tripdata.zip\n",
    "!unzip 202403-divvy-tripdata.zip\n",
    "!unzip 202404-divvy-tripdata.zip\n",
    "!unzip 202405-divvy-tripdata.zip\n",
    "!unzip 202406-divvy-tripdata.zip"
   ]
  },
  {
   "cell_type": "code",
   "execution_count": null,
   "metadata": {},
   "outputs": [],
   "source": [
    "# Download Parameters\n",
    "import matplotlib.pyplot as plt\n",
    "import os\n",
    "import pandas as pd\n",
    "import requests\n",
    "import sqlite3\n",
    "import zipfile\n",
    "from pathlib import Path\n",
    "from tqdm import tqdm"
   ]
  },
  {
   "cell_type": "markdown",
   "metadata": {},
   "source": [
    "Now that we have the data downloaded, let's put it into a SQLITE db for easier manipulation."
   ]
  },
  {
   "cell_type": "code",
   "execution_count": null,
   "metadata": {},
   "outputs": [],
   "source": [
    "trip_data_202307 = pd.read_csv('202307-divvy-tripdata.csv')\n",
    "trip_data_202308 = pd.read_csv('202308-divvy-tripdata.csv')\n",
    "trip_data_202309 = pd.read_csv('202309-divvy-tripdata.csv')\n",
    "trip_data_202310 = pd.read_csv('202310-divvy-tripdata.csv')\n",
    "trip_data_202311 = pd.read_csv('202311-divvy-tripdata.csv')\n",
    "trip_data_202312 = pd.read_csv('202312-divvy-tripdata.csv')\n",
    "trip_data_202401 = pd.read_csv('202401-divvy-tripdata.csv')\n",
    "trip_data_202402 = pd.read_csv('202402-divvy-tripdata.csv')\n",
    "trip_data_202403 = pd.read_csv('202403-divvy-tripdata.csv')\n",
    "trip_data_202404 = pd.read_csv('202404-divvy-tripdata.csv')\n",
    "trip_data_202405 = pd.read_csv('202405-divvy-tripdata.csv')\n",
    "trip_data_202406 = pd.read_csv('202406-divvy-tripdata.csv')"
   ]
  },
  {
   "cell_type": "markdown",
   "metadata": {},
   "source": [
    "Now that we have everything downloaded, we are going to read the dataframe from cyclistic table in cyclistic db."
   ]
  },
  {
   "cell_type": "code",
   "execution_count": null,
   "metadata": {},
   "outputs": [],
   "source": [
    "import geopandas as gpd\n",
    "from shapely.geometry import Point\n",
    "import pandas as pd\n",
    "\n",
    "\n",
    "def calculate_distances_geopandas(start_lat, start_long, end_lat, end_long):\n",
    "    \"\"\"\n",
    "    Calculates the distances between pairs of start and end coordinates using GeoPandas.\n",
    "\n",
    "    Args:\n",
    "        start_lat (pd.Series): A Series containing start latitudes.\n",
    "        start_long (pd.Series): A Series containing start longitudes.\n",
    "        end_lat (pd.Series): A Series containing end latitudes.\n",
    "        end_long (pd.Series): A Series containing end longitudes.\n",
    "\n",
    "    Returns:\n",
    "        pd.Series: A Series containing the distances between corresponding start-end coordinate pairs in kilometers.\n",
    "    \"\"\"\n",
    "\n",
    "    # Input validation (same length for all series)\n",
    "    if not len({len(start_lat), len(start_long), len(end_lat), len(end_long)}) == 1:\n",
    "        raise ValueError(\"All input Series must have the same length.\")\n",
    "\n",
    "    # Create Point geometries from start and end coordinates\n",
    "    start_points = gpd.GeoSeries(\n",
    "        [Point(lon, lat) for lat, lon in zip(start_lat, start_long)], crs=\"EPSG:4326\")\n",
    "    end_points = gpd.GeoSeries(\n",
    "        [Point(lon, lat) for lat, lon in zip(end_lat, end_long)], crs=\"EPSG:4326\")\n",
    "\n",
    "    # Calculate distances (in meters) and convert to kilometers\n",
    "    distance = start_points.distance(end_points, align=True)\n",
    "\n",
    "    return distance\n",
    "\n",
    "df = pd.concat(\n",
    "    [trip_data_202307, trip_data_202308, trip_data_202309, trip_data_202310, trip_data_202311, trip_data_202312,\n",
    "     trip_data_202401, trip_data_202402, trip_data_202403, trip_data_202404, trip_data_202405, trip_data_202406])\n",
    "\n",
    "df.reset_index(inplace=True)\n",
    "\n",
    "df.dropna()\n",
    "df['started_at'] = pd.to_datetime(df['started_at'], errors='coerce')\n",
    "df['ended_at'] = pd.to_datetime(df['ended_at'], errors='coerce')\n",
    "df['member_casual'] = df['member_casual'].astype('category')\n",
    "df['ride_id'] = df['ride_id'].astype('string')\n",
    "df['rideable_type'] = df['ride_id'].astype('string')\n",
    "df['start_station_name'] = df['start_station_name'].astype('string')\n",
    "df['start_station_id'] = df['start_station_id'].astype('string')\n",
    "df['end_station_name'] = df['end_station_name'].astype('string')\n",
    "df['end_station_id'] = df['end_station_id'].astype('string')\n",
    "\n",
    "df['ride_length'] = df['ended_at'] - df['started_at']\n",
    "\n",
    "df['distance'] = calculate_distances_geopandas(\n",
    "    df['start_lat'],\n",
    "    df['start_lng'],\n",
    "    df['end_lat'],\n",
    "    df['end_lng']\n",
    ")\n",
    "\n",
    "print(df.info())\n",
    "print(df.describe())\n",
    "df.head()"
   ]
  },
  {
   "cell_type": "code",
   "execution_count": 32,
   "metadata": {},
   "outputs": [],
   "source": [
    "del trip_data_202307\n",
    "del trip_data_202308\n",
    "del trip_data_202309\n",
    "del trip_data_202310\n",
    "del trip_data_202311\n",
    "del trip_data_202312\n",
    "del trip_data_202401\n",
    "del trip_data_202402\n",
    "del trip_data_202403\n",
    "del trip_data_202404\n",
    "del trip_data_202405\n",
    "del trip_data_202406"
   ]
  },
  {
   "cell_type": "markdown",
   "metadata": {},
   "source": [
    "Now, let's dig in. What should we look at first? Let's look at the relationship of casual users vs member users and what type of bike they use."
   ]
  },
  {
   "cell_type": "code",
   "execution_count": 35,
   "metadata": {},
   "outputs": [
    {
     "data": {
      "text/plain": [
       "index                 5734381\n",
       "ride_id               5734381\n",
       "rideable_type         5734381\n",
       "started_at            5023660\n",
       "ended_at              5023660\n",
       "start_station_name    4801378\n",
       "start_station_id      4801378\n",
       "end_station_name      4753825\n",
       "end_station_id        4753825\n",
       "start_lat             5734381\n",
       "start_lng             5734381\n",
       "end_lat               5726462\n",
       "end_lng               5726462\n",
       "member_casual         5734381\n",
       "ride_length           5023660\n",
       "distance              5726462\n",
       "dtype: int64"
      ]
     },
     "execution_count": 35,
     "metadata": {},
     "output_type": "execute_result"
    }
   ],
   "source": [
    "import seaborn as sns\n",
    "import matplotlib.pyplot as plt\n",
    "\n",
    "df.count()"
   ]
  },
  {
   "cell_type": "code",
   "execution_count": null,
   "metadata": {},
   "outputs": [],
   "source": [
    "# calculate the length of ride and add it to DF\n"
   ]
  },
  {
   "cell_type": "code",
   "execution_count": null,
   "metadata": {},
   "outputs": [],
   "source": [
    "casual_mean = df.where(df.member_casual == 'casual').ride_length.mean()\n",
    "member_mean = df.where(df.member_casual == 'member').ride_length.mean()\n",
    "print(f'casual mean is {casual_mean}')\n",
    "print(f'member mean is {member_mean}')\n",
    "\n",
    "delta_mean = casual_mean - member_mean\n",
    "print(f'delta mean is {delta_mean}')"
   ]
  },
  {
   "cell_type": "markdown",
   "metadata": {},
   "source": [
    "Our observation shows that casual users have longer ride lengths than member users."
   ]
  },
  {
   "cell_type": "code",
   "execution_count": null,
   "metadata": {},
   "outputs": [],
   "source": []
  },
  {
   "cell_type": "code",
   "execution_count": null,
   "metadata": {},
   "outputs": [],
   "source": [
    "\n",
    "print(df.info())\n",
    "print(df.describe()) \n",
    "df.head()"
   ]
  },
  {
   "cell_type": "markdown",
   "metadata": {},
   "source": [
    "Now to find the mean distance between casual users and member users."
   ]
  },
  {
   "cell_type": "code",
   "execution_count": null,
   "metadata": {},
   "outputs": [],
   "source": [
    "casual_mean = df.where(df.member_casual == 'casual').distance.mean()\n",
    "member_mean = df.where(df.member_casual == 'member').distance.mean()\n",
    "print(f'casual distance mean is {casual_mean}')\n",
    "print(f'member distance mean is {member_mean}')\n",
    "\n",
    "delta_mean = abs(casual_mean - member_mean)\n",
    "print(f'delta mean is {delta_mean}')"
   ]
  },
  {
   "cell_type": "code",
   "execution_count": null,
   "metadata": {},
   "outputs": [],
   "source": []
  },
  {
   "cell_type": "code",
   "execution_count": null,
   "metadata": {},
   "outputs": [],
   "source": []
  }
 ],
 "metadata": {
  "kernelspec": {
   "display_name": ".venv",
   "language": "python",
   "name": "python3"
  },
  "language_info": {
   "codemirror_mode": {
    "name": "ipython",
    "version": 3
   },
   "file_extension": ".py",
   "mimetype": "text/x-python",
   "name": "python",
   "nbconvert_exporter": "python",
   "pygments_lexer": "ipython3",
   "version": "3.12.4"
  }
 },
 "nbformat": 4,
 "nbformat_minor": 2
}
